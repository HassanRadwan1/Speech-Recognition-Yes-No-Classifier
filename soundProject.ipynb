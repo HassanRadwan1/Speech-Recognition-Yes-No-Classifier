{
 "cells": [
  {
   "cell_type": "markdown",
   "metadata": {},
   "source": [
    "# Speech Recognition Project (Yes,No)\n"
   ]
  },
  {
   "cell_type": "code",
   "execution_count": null,
   "metadata": {},
   "outputs": [
    {
     "name": "stdout",
     "output_type": "stream",
     "text": [
      "Accuracy: 84.54%\n",
      "The Word is: Yes\n",
      "The Word is: No\n",
      "The Word is: Yes\n"
     ]
    }
   ],
   "source": [
    "import os\n",
    "import librosa\n",
    "import numpy as np\n",
    "from sklearn.model_selection import train_test_split\n",
    "from sklearn.neighbors import KNeighborsClassifier\n",
    "from sklearn.metrics import accuracy_score\n",
    "\n",
    "def loadfiles(folderpath, label, n_mfcc=13):\n",
    "    features = []\n",
    "    labels = []\n",
    "    for filename in os.listdir(folderpath):\n",
    "        file_path = os.path.join(folderpath, filename)\n",
    "        audio, sr = librosa.load(file_path, sr=None)\n",
    "        mfcc = librosa.feature.mfcc(y=audio,sr=sr,n_mfcc=n_mfcc)\n",
    "        mfcc_mean = np.mean(mfcc, axis=1) \n",
    "        features.append(mfcc_mean)\n",
    "        labels.append(label)\n",
    "    return features, labels\n",
    "\n",
    "\n",
    "def testModel(file_path, model, n_mfcc=13):\n",
    "    audio, sr = librosa.load(file_path, sr=None)\n",
    "    mfcc = librosa.feature.mfcc(y=audio,sr=sr, n_mfcc=n_mfcc)\n",
    "    mfcc_mean = np.mean(mfcc, axis=1).reshape(1, -1)\n",
    "    \n",
    "    prediction = model.predict(mfcc_mean)\n",
    "    return \"Yes\" if prediction[0] == 1 else \"No\"\n",
    "\n",
    "\n",
    "yes_features, yes_labels = loadfiles(r\"C:\\Users\\Dell\\Desktop\\soundProject\\yes\", 1)\n",
    "no_features, no_labels = loadfiles(r\"C:\\Users\\Dell\\Desktop\\soundProject\\no\", 0)\n",
    "\n",
    "\n",
    "X = np.array(yes_features + no_features)\n",
    "y = np.array(yes_labels + no_labels)\n",
    "\n",
    "\n",
    "X_train, X_test, y_train, y_test = train_test_split(X, y, test_size=0.2, random_state=42)\n",
    "\n",
    "\n",
    "model = KNeighborsClassifier(n_neighbors=5)\n",
    "model.fit(X_train, y_train)\n",
    "\n",
    "\n",
    "y_pred = model.predict(X_test)\n",
    "accuracy = accuracy_score(y_test, y_pred)\n",
    "print(f\"Accuracy: {accuracy * 100:.2f}%\")\n",
    "\n",
    "file_path = r\"C:\\Users\\Dell\\Desktop\\soundProject\\yes\\yes_10.wav\" #Yes\n",
    "result = testModel(file_path, model)\n",
    "file_path2 = r\"C:\\Users\\Dell\\Desktop\\soundProject\\no\\no_147.wav\" #No\n",
    "result2 = testModel(file_path2, model)\n",
    "file_path3 = r\"C:\\Users\\Dell\\Desktop\\soundProject\\audio\\yes\\0c2d2ffa_nohash_0.wav\" # Yes\n",
    "result3 = testModel(file_path3, model)\n",
    "\n",
    "print(f\"The Word is: {result}\")\n",
    "print(f\"The Word is: {result2}\")\n",
    "print(f\"The Word is: {result3}\")"
   ]
  }
 ],
 "metadata": {
  "kernelspec": {
   "display_name": "Python 3",
   "language": "python",
   "name": "python3"
  },
  "language_info": {
   "codemirror_mode": {
    "name": "ipython",
    "version": 3
   },
   "file_extension": ".py",
   "mimetype": "text/x-python",
   "name": "python",
   "nbconvert_exporter": "python",
   "pygments_lexer": "ipython3",
   "version": "3.12.3"
  }
 },
 "nbformat": 4,
 "nbformat_minor": 2
}
